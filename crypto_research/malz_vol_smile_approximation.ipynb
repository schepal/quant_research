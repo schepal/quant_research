{
 "cells": [
  {
   "cell_type": "markdown",
   "metadata": {},
   "source": [
    "## Approximating the Volatility Smile"
   ]
  },
  {
   "cell_type": "code",
   "execution_count": 174,
   "metadata": {},
   "outputs": [],
   "source": [
    "import pandas as pd\n",
    "import matplotlib.pyplot as plt\n",
    "import ast\n",
    "import warnings\n",
    "import numpy as np\n",
    "warnings.filterwarnings('ignore')\n",
    "import math\n",
    "import deribit_data as dm\n",
    "import datetime"
   ]
  },
  {
   "cell_type": "markdown",
   "metadata": {},
   "source": [
    "The following example was adapted from the excellent book, \"FX Derivatives Trader School\" by Giles Jewitt. It is a comprehensive resource on how institutional traders manage and price risk in FX option markets. Below we will approximate a volatility smile curve for Bitcoin options using an approximation method presented in [Allan M. Malz (1997)](https://www.newyorkfed.org/medialibrary/media/research/staff_reports/sr32.html)."
   ]
  },
  {
   "cell_type": "markdown",
   "metadata": {},
   "source": [
    "#### Key Terms"
   ]
  },
  {
   "cell_type": "markdown",
   "metadata": {},
   "source": [
    "- **Implied Volatility (IV)**: The market's forecast of volatility during the course of an option's life\n",
    "- **ATM (At the Money)**: The IV for a specific strike close to the price of the underlying asset\n",
    "- **Fly (Butterfly)**: The IV difference between wings of volatility smile and the ATM IV (this measures the height of the wings of the volatility smile)\n",
    "- **Risk Reversal (RR)**: The IV differential between strikes above and below ATM (this measures the skewness of the volatility smile)"
   ]
  },
  {
   "cell_type": "markdown",
   "metadata": {},
   "source": [
    "#### Model Parameters\n",
    "\n",
    "- $\\sigma_{Call25d} = \\text{25 Delta Call IV}$\n",
    "- $\\sigma_{Put25d} = \\text{25 Delta Put IV}$\n",
    "- $\\sigma_{ATM} = \\text{ATM IV}$\n",
    "- $\\sigma_{RR25d} = \\text{25 Delta Risk Reversal IV}$\n",
    "- $\\sigma_{FLY25d} = \\text{25 Delta Butterfly IV}$\n",
    "- $ \\sigma_{X Delta Put} = \\text{Delta Put IV}$\n",
    "- $X = \\text{absolute value of the put option delta}$"
   ]
  },
  {
   "cell_type": "markdown",
   "metadata": {},
   "source": [
    "##### Malz Put Option Implied Volatility Approximation"
   ]
  },
  {
   "cell_type": "markdown",
   "metadata": {},
   "source": [
    "$ \\sigma_{Call25d} = \\sigma_{ATM} + \\sigma_{Fly25d} + \\frac{1}{2}\\sigma_{RR25d}$\n",
    "\n",
    "$ \\sigma_{Put25d} = \\sigma_{ATM} + \\sigma_{Fly25d} - \\frac{1}{2}\\sigma_{RR25d}$\n",
    "\n",
    "$ \\sigma_{RR25d} = \\sigma_{Call25d} - \\sigma_{Put25d} $\n",
    "\n",
    "$ \\sigma_{FLY25d} = \\frac{(\\sigma_{Call25d} + \\sigma_{Put25d})}{2} - \\sigma_{ATM} $\n",
    "\n",
    "$ \\sigma_{X Delta Put} = \\sigma_{ATM} + 2\\cdot\\sigma_{RR25d}\\cdot(X - 50\\%) +16\\cdot\\sigma_{FLY25d}\\cdot(X-50\\%)^2$\n",
    "\n",
    "Source: FX Derivatives Trader School: Pg. 206"
   ]
  },
  {
   "cell_type": "code",
   "execution_count": 196,
   "metadata": {
    "scrolled": false
   },
   "outputs": [],
   "source": [
    "# Load and select relevant options data from CSV file\n",
    "df = pd.read_csv(\"options_data.csv\", index_col=0)\n",
    "greeks = pd.DataFrame(df.greeks.apply(ast.literal_eval).tolist())\n",
    "df = df[['option_type', 'instrument_name', 'strike', 'mark_iv', 'bid_iv', 'ask_iv', \n",
    "         'underlying_price', 'expiration_timestamp']]\n",
    "df = pd.concat([df, greeks], axis=1)\n",
    "\n",
    "# Select earliest maturity option contract for our analysis\n",
    "maturities = list(set(df.expiration_timestamp))\n",
    "df = df[df.expiration_timestamp==maturities[0]]\n",
    "\n",
    "# Seperate out calls and puts\n",
    "# We will also use mid-implied volatility for our analysis\n",
    "df['mid_iv'] = (df.bid_iv + df.ask_iv)/2\n",
    "calls = df[df.option_type == 'call']\n",
    "puts = df[df.option_type == 'put']\n",
    "calls['delta'] = ((calls.delta)*100).round(-1)\n",
    "puts['delta'] = (abs(puts.delta)*100).round(-1)"
   ]
  },
  {
   "cell_type": "code",
   "execution_count": 202,
   "metadata": {},
   "outputs": [],
   "source": [
    "# Calculate ATM volatility - note: ATM is calculated based on: (current average_price +/- $10)\n",
    "avg_price = round(df.underlying_price.mean())\n",
    "atm_iv = df[(df.strike.values >= avg_price -10) & (df.strike.values <= avg_price +10)].mid_iv.mean()\n",
    "\n",
    "# Select options with average of 25 delta (ranges from 20 to 30)\n",
    "put_25D_iv = puts[(puts.delta == 20) | (puts.delta == 30)].mid_iv.mean()\n",
    "call_25D_iv = calls[(calls.delta == 20) | (calls.delta == 30)].mid_iv.mean()\n",
    "\n",
    "# Risk reversal implied volatility calculation\n",
    "rr25D_iv = call_25D_iv - put_25D_iv\n",
    "\n",
    "# Butterfly implied volatility calculation\n",
    "fly25D_iv = (call_25D_iv + put_25D_iv)/2 - atm_iv"
   ]
  },
  {
   "cell_type": "code",
   "execution_count": 203,
   "metadata": {},
   "outputs": [],
   "source": [
    "def put_delta_iv(delta, rr, fly, atm):\n",
    "    '''Malz Approximation: approximates the volatility smile'''\n",
    "    return(atm + 2*rr*(delta-0.50) + 16*fly*((delta-0.50))**2)"
   ]
  },
  {
   "cell_type": "code",
   "execution_count": 204,
   "metadata": {},
   "outputs": [],
   "source": [
    "# Generate the volatility smile approximations\n",
    "put_delta_aprx = [put_delta_iv(i, rr25D_iv, fly25D_iv, atm_iv) for i in np.arange(0.01, 1, 0.01)]\n",
    "put_delta_aprx = [0 if math.isnan(x) else x for x in put_delta_aprx]"
   ]
  },
  {
   "cell_type": "code",
   "execution_count": 205,
   "metadata": {},
   "outputs": [
    {
     "data": {
      "image/png": "[encoded data removed]",
      "text/plain": [
       "<Figure size 432x288 with 1 Axes>"
      ]
     },
     "metadata": {
      "needs_background": "light"
     },
     "output_type": "display_data"
    }
   ],
   "source": [
    "sorted_puts = puts.sort_values('delta')\n",
    "plt.plot(np.arange(0.01, 1, 0.01), put_delta_aprx, c='g', alpha=0.70, label='Estimated Volatility')\n",
    "plt.scatter(sorted_puts.delta/100, sorted_puts.mid_iv, c='r', alpha=0.50, label='Actual Volatility')\n",
    "plt.xlabel(\"Put Delta (Absolute Value)\")\n",
    "plt.ylabel(\"Mid-Implied Volatility\")\n",
    "option_date = datetime.datetime.fromtimestamp(maturities[mat]/1000).strftime('%Y-%B-%d')\n",
    "plt.title(\"Volatility Approximation vs. Actual: \" + option_date + \"Maturity\")\n",
    "plt.legend();\n",
    "plt.show()"
   ]
  },
  {
   "cell_type": "markdown",
   "metadata": {},
   "source": [
    "Conclusion: Not practical in real-world trading due to many theoretical assumptions but a good starting framework to get rolling."
   ]
  },
  {
   "cell_type": "code",
   "execution_count": null,
   "metadata": {},
   "outputs": [],
   "source": []
  }
 ],
 "metadata": {
  "kernelspec": {
   "display_name": "Python 3",
   "language": "python",
   "name": "python3"
  },
  "language_info": {
   "codemirror_mode": {
    "name": "ipython",
    "version": 3
   },
   "file_extension": ".py",
   "mimetype": "text/x-python",
   "name": "python",
   "nbconvert_exporter": "python",
   "pygments_lexer": "ipython3",
   "version": "3.7.4"
  }
 },
 "nbformat": 4,
 "nbformat_minor": 4
}
